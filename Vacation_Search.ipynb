{
 "cells": [
  {
   "cell_type": "code",
   "execution_count": 1,
   "metadata": {},
   "outputs": [],
   "source": [
    "# imprt the dependencies\n",
    "import pandas as pd\n",
    "import matplotlib.pyplot as plt\n",
    "import numpy as np\n",
    "\n"
   ]
  },
  {
   "cell_type": "code",
   "execution_count": 2,
   "metadata": {},
   "outputs": [],
   "source": [
    "city_data_df = pd.read_csv(\"Resources/WeatherPy_challenge.csv\")\n"
   ]
  },
  {
   "cell_type": "code",
   "execution_count": 3,
   "metadata": {},
   "outputs": [
    {
     "data": {
      "text/plain": [
       "['Unnamed: 0',\n",
       " 'City',\n",
       " 'Country',\n",
       " 'Date',\n",
       " 'Lat',\n",
       " 'Lng',\n",
       " 'Max Temp',\n",
       " 'Humidity',\n",
       " 'Cloudiness',\n",
       " 'Wind Speed',\n",
       " 'Current Description',\n",
       " 'Rain inches (last 3hours)',\n",
       " 'Snow inches(last 3hours)']"
      ]
     },
     "execution_count": 3,
     "metadata": {},
     "output_type": "execute_result"
    }
   ],
   "source": [
    "# Filter the DataFrame for minimum and maximum temperature preferences\n",
    "columns = city_data_df.columns.tolist()\n",
    "columns"
   ]
  },
  {
   "cell_type": "code",
   "execution_count": 4,
   "metadata": {},
   "outputs": [
    {
     "name": "stdin",
     "output_type": "stream",
     "text": [
      "What is the minimum temperature you would like for your trip?  90\n",
      "What is the maximum temperature you would like for your trip?  75\n",
      "Do you want it to be raining? (yes/no)  no\n",
      "Do you want it to be snowing? (yes/no)  no\n"
     ]
    }
   ],
   "source": [
    "min_temp = float(input(\"What is the minimum temperature you would like for your trip? \"))\n",
    "max_temp = float(input(\"What is the maximum temperature you would like for your trip? \"))\n",
    "rain = input(\"Do you want it to be raining? (yes/no) \")\n",
    "snow = input(\"Do you want it to be snowing? (yes/no) \")"
   ]
  },
  {
   "cell_type": "code",
   "execution_count": 5,
   "metadata": {},
   "outputs": [],
   "source": [
    "for index, row in city_data_df.iterrows():\n",
    "    if rain == \"no\":\n",
    "        rain_inches = city_data_df['Rain inches (last 3hours)'] == 0\n",
    "    else:\n",
    "        rain_inches = city_data_df['Rain inches (last 3hours)'] != 0\n",
    "    if snow == \"no\":\n",
    "        snow_inches = city_data_df['Snow inches(last 3hours)'] == 0\n",
    "    else:\n",
    "        snow_inches = city_data_df['Snow inches(last 3hours)'] != 0\n",
    "        \n",
    "\n"
   ]
  },
  {
   "cell_type": "code",
   "execution_count": 6,
   "metadata": {},
   "outputs": [
    {
     "data": {
      "text/html": [
       "<div>\n",
       "<style scoped>\n",
       "    .dataframe tbody tr th:only-of-type {\n",
       "        vertical-align: middle;\n",
       "    }\n",
       "\n",
       "    .dataframe tbody tr th {\n",
       "        vertical-align: top;\n",
       "    }\n",
       "\n",
       "    .dataframe thead th {\n",
       "        text-align: right;\n",
       "    }\n",
       "</style>\n",
       "<table border=\"1\" class=\"dataframe\">\n",
       "  <thead>\n",
       "    <tr style=\"text-align: right;\">\n",
       "      <th></th>\n",
       "      <th>Unnamed: 0</th>\n",
       "      <th>City</th>\n",
       "      <th>Country</th>\n",
       "      <th>Date</th>\n",
       "      <th>Lat</th>\n",
       "      <th>Lng</th>\n",
       "      <th>Max Temp</th>\n",
       "      <th>Humidity</th>\n",
       "      <th>Cloudiness</th>\n",
       "      <th>Wind Speed</th>\n",
       "      <th>Current Description</th>\n",
       "      <th>Rain inches (last 3hours)</th>\n",
       "      <th>Snow inches(last 3hours)</th>\n",
       "    </tr>\n",
       "  </thead>\n",
       "  <tbody>\n",
       "    <tr>\n",
       "      <th>26</th>\n",
       "      <td>26</td>\n",
       "      <td>Navrongo</td>\n",
       "      <td>GH</td>\n",
       "      <td>2020-04-02 13:28:28</td>\n",
       "      <td>10.90</td>\n",
       "      <td>-1.09</td>\n",
       "      <td>102.33</td>\n",
       "      <td>21</td>\n",
       "      <td>57</td>\n",
       "      <td>3.20</td>\n",
       "      <td>broken clouds</td>\n",
       "      <td>0.0</td>\n",
       "      <td>0.0</td>\n",
       "    </tr>\n",
       "    <tr>\n",
       "      <th>96</th>\n",
       "      <td>96</td>\n",
       "      <td>Taoudenni</td>\n",
       "      <td>ML</td>\n",
       "      <td>2020-04-02 13:28:37</td>\n",
       "      <td>22.68</td>\n",
       "      <td>-3.98</td>\n",
       "      <td>98.46</td>\n",
       "      <td>8</td>\n",
       "      <td>97</td>\n",
       "      <td>8.88</td>\n",
       "      <td>overcast clouds</td>\n",
       "      <td>0.0</td>\n",
       "      <td>0.0</td>\n",
       "    </tr>\n",
       "    <tr>\n",
       "      <th>140</th>\n",
       "      <td>140</td>\n",
       "      <td>Arlit</td>\n",
       "      <td>NE</td>\n",
       "      <td>2020-04-02 13:28:43</td>\n",
       "      <td>18.74</td>\n",
       "      <td>7.39</td>\n",
       "      <td>102.52</td>\n",
       "      <td>6</td>\n",
       "      <td>9</td>\n",
       "      <td>7.99</td>\n",
       "      <td>clear sky</td>\n",
       "      <td>0.0</td>\n",
       "      <td>0.0</td>\n",
       "    </tr>\n",
       "    <tr>\n",
       "      <th>144</th>\n",
       "      <td>144</td>\n",
       "      <td>Beboto</td>\n",
       "      <td>TD</td>\n",
       "      <td>2020-04-02 13:28:43</td>\n",
       "      <td>8.27</td>\n",
       "      <td>16.94</td>\n",
       "      <td>114.21</td>\n",
       "      <td>12</td>\n",
       "      <td>80</td>\n",
       "      <td>2.68</td>\n",
       "      <td>broken clouds</td>\n",
       "      <td>0.0</td>\n",
       "      <td>0.0</td>\n",
       "    </tr>\n",
       "    <tr>\n",
       "      <th>173</th>\n",
       "      <td>173</td>\n",
       "      <td>Shahada</td>\n",
       "      <td>IN</td>\n",
       "      <td>2020-04-02 13:28:48</td>\n",
       "      <td>21.55</td>\n",
       "      <td>74.47</td>\n",
       "      <td>102.47</td>\n",
       "      <td>11</td>\n",
       "      <td>0</td>\n",
       "      <td>9.46</td>\n",
       "      <td>clear sky</td>\n",
       "      <td>0.0</td>\n",
       "      <td>0.0</td>\n",
       "    </tr>\n",
       "  </tbody>\n",
       "</table>\n",
       "</div>"
      ],
      "text/plain": [
       "     Unnamed: 0       City Country                 Date    Lat    Lng  \\\n",
       "26           26   Navrongo      GH  2020-04-02 13:28:28  10.90  -1.09   \n",
       "96           96  Taoudenni      ML  2020-04-02 13:28:37  22.68  -3.98   \n",
       "140         140      Arlit      NE  2020-04-02 13:28:43  18.74   7.39   \n",
       "144         144     Beboto      TD  2020-04-02 13:28:43   8.27  16.94   \n",
       "173         173    Shahada      IN  2020-04-02 13:28:48  21.55  74.47   \n",
       "\n",
       "     Max Temp  Humidity  Cloudiness  Wind Speed Current Description  \\\n",
       "26     102.33        21          57        3.20       broken clouds   \n",
       "96      98.46         8          97        8.88     overcast clouds   \n",
       "140    102.52         6           9        7.99           clear sky   \n",
       "144    114.21        12          80        2.68       broken clouds   \n",
       "173    102.47        11           0        9.46           clear sky   \n",
       "\n",
       "     Rain inches (last 3hours)  Snow inches(last 3hours)  \n",
       "26                         0.0                       0.0  \n",
       "96                         0.0                       0.0  \n",
       "140                        0.0                       0.0  \n",
       "144                        0.0                       0.0  \n",
       "173                        0.0                       0.0  "
      ]
     },
     "execution_count": 6,
     "metadata": {},
     "output_type": "execute_result"
    }
   ],
   "source": [
    "# Get the maximum temperature.\n",
    "max_temp = city_data_df[\"Max Temp\"]\n",
    "temps = []\n",
    "for temp in max_temp:\n",
    "    temps.append(max(temp, 0))\n",
    "    \n",
    "preferred_cities_df = city_data_df.loc[(city_data_df['Rain inches (last 3hours)'] != rain_inches) &\n",
    "                                       (city_data_df['Snow inches(last 3hours)'] != snow_inches) &\n",
    "                                       (city_data_df[\"Max Temp\"] <= max_temp) & \\\n",
    "                                       (city_data_df[\"Max Temp\"] >= min_temp)]\n",
    "                                       \n",
    "preferred_cities_df.head()"
   ]
  },
  {
   "cell_type": "code",
   "execution_count": 7,
   "metadata": {},
   "outputs": [
    {
     "data": {
      "text/html": [
       "<div>\n",
       "<style scoped>\n",
       "    .dataframe tbody tr th:only-of-type {\n",
       "        vertical-align: middle;\n",
       "    }\n",
       "\n",
       "    .dataframe tbody tr th {\n",
       "        vertical-align: top;\n",
       "    }\n",
       "\n",
       "    .dataframe thead th {\n",
       "        text-align: right;\n",
       "    }\n",
       "</style>\n",
       "<table border=\"1\" class=\"dataframe\">\n",
       "  <thead>\n",
       "    <tr style=\"text-align: right;\">\n",
       "      <th></th>\n",
       "      <th>City</th>\n",
       "      <th>Country</th>\n",
       "      <th>Max Temp</th>\n",
       "      <th>Current Description</th>\n",
       "      <th>Lat</th>\n",
       "      <th>Lng</th>\n",
       "      <th>Hotel Name</th>\n",
       "    </tr>\n",
       "  </thead>\n",
       "  <tbody>\n",
       "    <tr>\n",
       "      <th>26</th>\n",
       "      <td>Navrongo</td>\n",
       "      <td>GH</td>\n",
       "      <td>102.33</td>\n",
       "      <td>broken clouds</td>\n",
       "      <td>10.90</td>\n",
       "      <td>-1.09</td>\n",
       "      <td></td>\n",
       "    </tr>\n",
       "    <tr>\n",
       "      <th>96</th>\n",
       "      <td>Taoudenni</td>\n",
       "      <td>ML</td>\n",
       "      <td>98.46</td>\n",
       "      <td>overcast clouds</td>\n",
       "      <td>22.68</td>\n",
       "      <td>-3.98</td>\n",
       "      <td></td>\n",
       "    </tr>\n",
       "    <tr>\n",
       "      <th>140</th>\n",
       "      <td>Arlit</td>\n",
       "      <td>NE</td>\n",
       "      <td>102.52</td>\n",
       "      <td>clear sky</td>\n",
       "      <td>18.74</td>\n",
       "      <td>7.39</td>\n",
       "      <td></td>\n",
       "    </tr>\n",
       "    <tr>\n",
       "      <th>144</th>\n",
       "      <td>Beboto</td>\n",
       "      <td>TD</td>\n",
       "      <td>114.21</td>\n",
       "      <td>broken clouds</td>\n",
       "      <td>8.27</td>\n",
       "      <td>16.94</td>\n",
       "      <td></td>\n",
       "    </tr>\n",
       "    <tr>\n",
       "      <th>173</th>\n",
       "      <td>Shahada</td>\n",
       "      <td>IN</td>\n",
       "      <td>102.47</td>\n",
       "      <td>clear sky</td>\n",
       "      <td>21.55</td>\n",
       "      <td>74.47</td>\n",
       "      <td></td>\n",
       "    </tr>\n",
       "  </tbody>\n",
       "</table>\n",
       "</div>"
      ],
      "text/plain": [
       "          City Country  Max Temp Current Description    Lat    Lng Hotel Name\n",
       "26    Navrongo      GH    102.33       broken clouds  10.90  -1.09           \n",
       "96   Taoudenni      ML     98.46     overcast clouds  22.68  -3.98           \n",
       "140      Arlit      NE    102.52           clear sky  18.74   7.39           \n",
       "144     Beboto      TD    114.21       broken clouds   8.27  16.94           \n",
       "173    Shahada      IN    102.47           clear sky  21.55  74.47           "
      ]
     },
     "execution_count": 7,
     "metadata": {},
     "output_type": "execute_result"
    }
   ],
   "source": [
    "# Add the cities to a marker layer map with a pop-up marker for each city that includes\n",
    "\n",
    "hotel_df = preferred_cities_df[[\"City\", \"Country\", \"Max Temp\", \"Current Description\", \"Lat\", \"Lng\"]].copy()\n",
    "hotel_df[\"Hotel Name\"] = \"\"\n",
    "hotel_df.head(10)"
   ]
  },
  {
   "cell_type": "code",
   "execution_count": 8,
   "metadata": {},
   "outputs": [],
   "source": [
    "import requests\n",
    "# Import the API key.\n",
    "from config1 import g_key\n",
    "\n"
   ]
  },
  {
   "cell_type": "code",
   "execution_count": 9,
   "metadata": {},
   "outputs": [],
   "source": [
    "# Set the parameters to search for a hotel in Paris.\n",
    "params = {\n",
    "    \"radius\": 5000,\n",
    "    \"types\": \"lodging\",\n",
    "    \"key\": g_key,\n",
    "    \"location\": \"48.8566, 2.3522\"}\n",
    "# Use base URL to search for hotels in Paris.\n",
    "base_url = \"https://maps.googleapis.com/maps/api/place/nearbysearch/json\"\n",
    "# Make request and get the JSON data from the search.\n",
    "hotels = requests.get(base_url, params=params).json()"
   ]
  },
  {
   "cell_type": "code",
   "execution_count": 10,
   "metadata": {},
   "outputs": [
    {
     "data": {
      "text/plain": [
       "20"
      ]
     },
     "execution_count": 10,
     "metadata": {},
     "output_type": "execute_result"
    }
   ],
   "source": [
    "len(hotels[\"results\"])"
   ]
  },
  {
   "cell_type": "code",
   "execution_count": 11,
   "metadata": {},
   "outputs": [
    {
     "name": "stdout",
     "output_type": "stream",
     "text": [
      "Hotel not found... skipping.\n",
      "Hotel not found... skipping.\n"
     ]
    }
   ],
   "source": [
    "# Iterate through the DataFrame.\n",
    "for index, row in hotel_df.iterrows():\n",
    "    # Get the latitude and longitude.\n",
    "    lat = row[\"Lat\"]\n",
    "    lng = row[\"Lng\"]\n",
    "\n",
    "    # Add the latitude and longitude to the params dictionary as values to the location key.\n",
    "    params[\"location\"] = f\"{lat},{lng}\"\n",
    "\n",
    "    # Use the search term: \"lodging\" and our latitude and longitude.\n",
    "    base_url = \"https://maps.googleapis.com/maps/api/place/nearbysearch/json\"\n",
    "    # Make request and get the JSON data from the search.\n",
    "    hotels = requests.get(base_url, params=params).json()\n",
    "    # Grab the first hotel from the results and store the name.\n",
    "    try:\n",
    "        hotel_df.loc[index, \"Hotel Name\"] = hotels[\"results\"][0][\"name\"]\n",
    "    except (IndexError):\n",
    "        print(\"Hotel not found... skipping.\")"
   ]
  },
  {
   "cell_type": "code",
   "execution_count": 12,
   "metadata": {},
   "outputs": [],
   "source": [
    "import gmaps\n",
    "# Configure gmaps to use your Google API key.\n",
    "gmaps.configure(api_key=g_key)"
   ]
  },
  {
   "cell_type": "code",
   "execution_count": 13,
   "metadata": {},
   "outputs": [],
   "source": [
    "# Get the maximum temperature.\n",
    "max_temp = hotel_df[\"Max Temp\"]\n",
    "temps = []\n",
    "for temp in max_temp:\n",
    "    temps.append(max(temp, 0))"
   ]
  },
  {
   "cell_type": "code",
   "execution_count": 14,
   "metadata": {},
   "outputs": [],
   "source": [
    "info_box_template = \"\"\"\n",
    "<dl>\n",
    "<dt>Hotel Name</dt><dd>{Hotel Name}</dd>\n",
    "<dt>City</dt><dd>{City}</dd>\n",
    "<dt>Country</dt><dd>{Country}</dd>\n",
    "<dt>Max Temp</dt><dd>{Max Temp} °F</dd>\n",
    "</dl>\n",
    "\"\"\"\n",
    "hotel_info = [info_box_template.format(**row) for index, row in hotel_df.iterrows()]"
   ]
  },
  {
   "cell_type": "code",
   "execution_count": 15,
   "metadata": {},
   "outputs": [
    {
     "data": {
      "application/vnd.jupyter.widget-view+json": {
       "model_id": "cde1db2390754d18aeed9803ea44b4ab",
       "version_major": 2,
       "version_minor": 0
      },
      "text/plain": [
       "Figure(layout=FigureLayout(height='420px'))"
      ]
     },
     "metadata": {},
     "output_type": "display_data"
    }
   ],
   "source": [
    "# Heatmap of temperature\n",
    "locations = hotel_df[[\"Lat\", \"Lng\"]]\n",
    "max_temp = hotel_df[\"Max Temp\"]\n",
    "fig = gmaps.figure(center=(30.0, 31.0), zoom_level=1.5)\n",
    "heat_layer = gmaps.heatmap_layer(locations, weights=max_temp,dissipating=False,\n",
    "             max_intensity=300, point_radius=4)\n",
    "marker_layer = gmaps.marker_layer(locations, info_box_content=hotel_info)\n",
    "fig.add_layer(heat_layer)\n",
    "fig.add_layer(marker_layer)\n",
    "\n",
    "# Call the figure to plot the data.\n",
    "fig\n"
   ]
  },
  {
   "cell_type": "code",
   "execution_count": 16,
   "metadata": {},
   "outputs": [
    {
     "data": {
      "text/html": [
       "<div>\n",
       "<style scoped>\n",
       "    .dataframe tbody tr th:only-of-type {\n",
       "        vertical-align: middle;\n",
       "    }\n",
       "\n",
       "    .dataframe tbody tr th {\n",
       "        vertical-align: top;\n",
       "    }\n",
       "\n",
       "    .dataframe thead th {\n",
       "        text-align: right;\n",
       "    }\n",
       "</style>\n",
       "<table border=\"1\" class=\"dataframe\">\n",
       "  <thead>\n",
       "    <tr style=\"text-align: right;\">\n",
       "      <th></th>\n",
       "      <th>City</th>\n",
       "      <th>Country</th>\n",
       "      <th>Max Temp</th>\n",
       "      <th>Current Description</th>\n",
       "      <th>Lat</th>\n",
       "      <th>Lng</th>\n",
       "      <th>Hotel Name</th>\n",
       "    </tr>\n",
       "  </thead>\n",
       "  <tbody>\n",
       "    <tr>\n",
       "      <th>26</th>\n",
       "      <td>Navrongo</td>\n",
       "      <td>GH</td>\n",
       "      <td>102.33</td>\n",
       "      <td>broken clouds</td>\n",
       "      <td>10.90</td>\n",
       "      <td>-1.09</td>\n",
       "      <td>Azakka Hotel</td>\n",
       "    </tr>\n",
       "    <tr>\n",
       "      <th>96</th>\n",
       "      <td>Taoudenni</td>\n",
       "      <td>ML</td>\n",
       "      <td>98.46</td>\n",
       "      <td>overcast clouds</td>\n",
       "      <td>22.68</td>\n",
       "      <td>-3.98</td>\n",
       "      <td></td>\n",
       "    </tr>\n",
       "    <tr>\n",
       "      <th>140</th>\n",
       "      <td>Arlit</td>\n",
       "      <td>NE</td>\n",
       "      <td>102.52</td>\n",
       "      <td>clear sky</td>\n",
       "      <td>18.74</td>\n",
       "      <td>7.39</td>\n",
       "      <td>Hôtel Telwa Bungalow</td>\n",
       "    </tr>\n",
       "    <tr>\n",
       "      <th>144</th>\n",
       "      <td>Beboto</td>\n",
       "      <td>TD</td>\n",
       "      <td>114.21</td>\n",
       "      <td>broken clouds</td>\n",
       "      <td>8.27</td>\n",
       "      <td>16.94</td>\n",
       "      <td></td>\n",
       "    </tr>\n",
       "    <tr>\n",
       "      <th>173</th>\n",
       "      <td>Shahada</td>\n",
       "      <td>IN</td>\n",
       "      <td>102.47</td>\n",
       "      <td>clear sky</td>\n",
       "      <td>21.55</td>\n",
       "      <td>74.47</td>\n",
       "      <td>AVADHOOT LODGE</td>\n",
       "    </tr>\n",
       "  </tbody>\n",
       "</table>\n",
       "</div>"
      ],
      "text/plain": [
       "          City Country  Max Temp Current Description    Lat    Lng  \\\n",
       "26    Navrongo      GH    102.33       broken clouds  10.90  -1.09   \n",
       "96   Taoudenni      ML     98.46     overcast clouds  22.68  -3.98   \n",
       "140      Arlit      NE    102.52           clear sky  18.74   7.39   \n",
       "144     Beboto      TD    114.21       broken clouds   8.27  16.94   \n",
       "173    Shahada      IN    102.47           clear sky  21.55  74.47   \n",
       "\n",
       "               Hotel Name  \n",
       "26           Azakka Hotel  \n",
       "96                         \n",
       "140  Hôtel Telwa Bungalow  \n",
       "144                        \n",
       "173        AVADHOOT LODGE  "
      ]
     },
     "execution_count": 16,
     "metadata": {},
     "output_type": "execute_result"
    }
   ],
   "source": [
    "hotel_df.head()"
   ]
  },
  {
   "cell_type": "code",
   "execution_count": 17,
   "metadata": {},
   "outputs": [],
   "source": [
    "hotel_df.to_csv(\"Resources/WeatherPy_vacation.csv\")"
   ]
  },
  {
   "cell_type": "code",
   "execution_count": null,
   "metadata": {},
   "outputs": [],
   "source": []
  }
 ],
 "metadata": {
  "kernelspec": {
   "display_name": "Python 3",
   "language": "python",
   "name": "python3"
  },
  "language_info": {
   "codemirror_mode": {
    "name": "ipython",
    "version": 3
   },
   "file_extension": ".py",
   "mimetype": "text/x-python",
   "name": "python",
   "nbconvert_exporter": "python",
   "pygments_lexer": "ipython3",
   "version": "3.7.4"
  }
 },
 "nbformat": 4,
 "nbformat_minor": 4
}
