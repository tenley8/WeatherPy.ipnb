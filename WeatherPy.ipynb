{
 "cells": [
  {
   "cell_type": "code",
   "execution_count": 1,
   "metadata": {},
   "outputs": [],
   "source": [
    "# Create Latitude and Longitude Combinations\n",
    "# imprt the dependencies\n",
    "import pandas as pd\n",
    "import matplotlib.pyplot as plt\n",
    "import numpy as np"
   ]
  },
  {
   "cell_type": "code",
   "execution_count": 2,
   "metadata": {},
   "outputs": [],
   "source": [
    "# Add the code that generates the latitudes and longitudes\n",
    "\n",
    "# use zip()object to pack the lats and lng,The zip object packs each pair of \n",
    "# lats and lngs having the same index in their respective array into a tuple. \n",
    "# If there are 1,500 latitudes and longitudes, there will be 1,500 tuples of paired \n",
    "# latitudes and longitudes,\n",
    "\n",
    "# create a set of random latitudes and longitudes combinations\n",
    "lats =np.random.uniform(low=-90.000, high=90.000, size=1500)\n",
    "lngs =np.random.uniform(low=180.00, high=1800, size=1500)\n",
    "lats_lngs = zip(lats, lngs)\n"
   ]
  },
  {
   "cell_type": "code",
   "execution_count": 3,
   "metadata": {},
   "outputs": [],
   "source": [
    "# Next, let’s unpack our lat_lngs zip object into a list. This way, we only need \n",
    "# to create a set of random latitudes and longitudes once\n",
    "# Add the latitudes and longtitudes to a list\n",
    "coordinates = list(lats_lngs)"
   ]
  },
  {
   "cell_type": "code",
   "execution_count": 4,
   "metadata": {},
   "outputs": [],
   "source": [
    "# Next, use the five pairs of latitudes and longitudes we used from our zip practice to get a \n",
    "# city and country code from the citipy module.\n",
    "\n",
    "from citipy import citipy"
   ]
  },
  {
   "cell_type": "code",
   "execution_count": 5,
   "metadata": {},
   "outputs": [
    {
     "data": {
      "text/plain": [
       "10"
      ]
     },
     "execution_count": 5,
     "metadata": {},
     "output_type": "execute_result"
    }
   ],
   "source": [
    "# Use the tuple() function to display the latitude and longitude combinations.\n",
    "# Create a list for holding the cities.\n",
    "cities = [] # stores city names\n",
    "# Identify the nearest city for each latitude and longitude combination.\n",
    "for coordinate in coordinates: # iterate through coordinates to retrieve nearest city\n",
    "    city = citipy.nearest_city(coordinate[0], coordinate[1]).city_name\n",
    "    \n",
    "    # If the city is unique, then we will add it to the cities list.\n",
    "    if city not in cities: # determines whether the found city is in cities\n",
    "        cities.append(city) #if not found, we use append() to find it\n",
    "# Print the city count to confirm sufficient count.\n",
    "len(cities)\n",
    "\n",
    "# When you run the code block, you should get slightly more than 500 unique cities. \n",
    "# If you get fewer than 500, increase your size limit on the np.random.uniform() function."
   ]
  },
  {
   "cell_type": "code",
   "execution_count": 6,
   "metadata": {},
   "outputs": [],
   "source": [
    "# For each city in our lats_lngs list,retrieve the following data and add it to a DataFrame:\n",
    "# City, country, and date\n",
    "# Latitude and longitude\n",
    "# Maximum temperature\n",
    "# Humidity\n",
    "# Cloudiness\n",
    "# Wind speed\n",
    "\n",
    "# Before we collect weather data from more than 500 cities, we’ll walk through how to \n",
    "# get the weather data from Boston.\n"
   ]
  },
  {
   "cell_type": "code",
   "execution_count": 7,
   "metadata": {},
   "outputs": [],
   "source": [
    "# import the Requests Library and your API key from the config.py file.\n",
    "# Import the requests library.\n",
    "import requests\n",
    "\n",
    "# Import the API key.\n",
    "from config import weather_api_key\n"
   ]
  },
  {
   "cell_type": "code",
   "execution_count": 8,
   "metadata": {},
   "outputs": [
    {
     "name": "stdout",
     "output_type": "stream",
     "text": [
      "http://api.openweathermap.org/data/2.5/weather?units=Imperial&APPID=98e7bcbbdfd9e516604879f5d2a923ea\n"
     ]
    }
   ],
   "source": [
    "# Starting URL for Weather Map API Call.\n",
    "url = \"http://api.openweathermap.org/data/2.5/weather?units=Imperial&APPID=\" + weather_api_key\n",
    "print(url)"
   ]
  },
  {
   "cell_type": "code",
   "execution_count": 9,
   "metadata": {},
   "outputs": [
    {
     "name": "stdout",
     "output_type": "stream",
     "text": [
      "http://api.openweathermap.org/data/2.5/weather?units=Imperial&APPID=98e7bcbbdfd9e516604879f5d2a923ea&q=Boston\n"
     ]
    }
   ],
   "source": [
    "# In the code, we are creating a string to get the weather data for Boston by using the city_url. \n",
    "# To create the city_url we add the parameter, &q= and “Boston” to the url.\n",
    "# Create an endpoint URL for a city.\n",
    "city_url = url + \"&q=\" + \"Boston\"\n",
    "print(city_url)"
   ]
  },
  {
   "cell_type": "code",
   "execution_count": 10,
   "metadata": {},
   "outputs": [
    {
     "data": {
      "text/plain": [
       "200"
      ]
     },
     "execution_count": 10,
     "metadata": {},
     "output_type": "execute_result"
    }
   ],
   "source": [
    "# Use the get() method, a feature of the Requests Library, to request data from an API. \n",
    "# The get() method is one of many HTTP methods that allow us to access, add, delete, get the headers, \n",
    "# and perform other actions on the request.\n",
    "\n",
    "# Make a 'Get' request for the city weather.\n",
    "city_weather = requests.get(city_url)\n",
    "city_weather.status_code"
   ]
  },
  {
   "cell_type": "code",
   "execution_count": 11,
   "metadata": {},
   "outputs": [
    {
     "data": {
      "text/plain": [
       "{'coord': {'lon': -71.06, 'lat': 42.36},\n",
       " 'weather': [{'id': 500,\n",
       "   'main': 'Rain',\n",
       "   'description': 'light rain',\n",
       "   'icon': '10d'},\n",
       "  {'id': 701, 'main': 'Mist', 'description': 'mist', 'icon': '50d'}],\n",
       " 'base': 'stations',\n",
       " 'main': {'temp': 39.45,\n",
       "  'feels_like': 25.83,\n",
       "  'temp_min': 37,\n",
       "  'temp_max': 42.01,\n",
       "  'pressure': 1018,\n",
       "  'humidity': 93},\n",
       " 'visibility': 1609,\n",
       " 'wind': {'speed': 19.46, 'deg': 80},\n",
       " 'rain': {'1h': 0.76},\n",
       " 'clouds': {'all': 90},\n",
       " 'dt': 1585518236,\n",
       " 'sys': {'type': 1,\n",
       "  'id': 3486,\n",
       "  'country': 'US',\n",
       "  'sunrise': 1585477854,\n",
       "  'sunset': 1585523190},\n",
       " 'timezone': -14400,\n",
       " 'id': 4930956,\n",
       " 'name': 'Boston',\n",
       " 'cod': 200}"
      ]
     },
     "execution_count": 11,
     "metadata": {},
     "output_type": "execute_result"
    }
   ],
   "source": [
    "# Before we collect weather data from more than 500 cities, we’ll walk through how to get the \n",
    "# weather data from Boston\n",
    "# the output will be the JSON-formatted data from the city of Boston\n",
    "\n",
    "# Create an endpoint URL for a city.\n",
    "city_url = url + \"&q=\" + \"Boston\"\n",
    "city_weather = requests.get(city_url)\n",
    "city_weather.json()"
   ]
  },
  {
   "cell_type": "code",
   "execution_count": 12,
   "metadata": {},
   "outputs": [
    {
     "name": "stdout",
     "output_type": "stream",
     "text": [
      "City Weather found.\n"
     ]
    }
   ],
   "source": [
    "# To check if we get a valid response, we can write a conditional expression that will evaluate \n",
    "# whether the status code is equal to 200. If it is, then we can print out a statement that says \n",
    "# the weather data was found. If there is a response other than 200, we can print out a statement \n",
    "# that says the weather was not found,\n",
    "\n",
    "#  Handle Request Errors\n",
    "# Create an endpoint URL for a city.\n",
    "city_url = url + \"&q=\" + \"Boston\"\n",
    "city_weather = requests.get(city_url)\n",
    "if city_weather.status_code == 200:\n",
    "    print(f\"City Weather found.\")\n",
    "else:\n",
    "    print(f\"City weather not found.\")"
   ]
  },
  {
   "cell_type": "code",
   "execution_count": 13,
   "metadata": {},
   "outputs": [],
   "source": [
    "# 1- Next let’s assign a variable to the city_weather.json() data to the variable \n",
    "# “boston_data” and run the cell. "
   ]
  },
  {
   "cell_type": "code",
   "execution_count": 14,
   "metadata": {},
   "outputs": [],
   "source": [
    "# Get the JSON data.\n",
    "boston_data = city_weather.json()"
   ]
  },
  {
   "cell_type": "code",
   "execution_count": 15,
   "metadata": {},
   "outputs": [
    {
     "data": {
      "text/plain": [
       "{'type': 1,\n",
       " 'id': 3486,\n",
       " 'country': 'US',\n",
       " 'sunrise': 1585477854,\n",
       " 'sunset': 1585523190}"
      ]
     },
     "execution_count": 15,
     "metadata": {},
     "output_type": "execute_result"
    }
   ],
   "source": [
    "# 2 -Next, using the sys key to get the corresponding value, we type boston_data['sys']in \n",
    "# a new cell and run the cell. The output is another dictionary as shown in the following image. \n",
    "boston_data[\"sys\"]"
   ]
  },
  {
   "cell_type": "code",
   "execution_count": 16,
   "metadata": {},
   "outputs": [
    {
     "data": {
      "text/plain": [
       "'US'"
      ]
     },
     "execution_count": 16,
     "metadata": {},
     "output_type": "execute_result"
    }
   ],
   "source": [
    "# 3- If we add the country key in brackets after the sys key, and run the cell again, \n",
    "# ‘US’ will be returned in the output.\n",
    "\n",
    "boston_data[\"sys\"][\"country\"]"
   ]
  },
  {
   "cell_type": "code",
   "execution_count": 17,
   "metadata": {},
   "outputs": [
    {
     "data": {
      "text/plain": [
       "1585518236"
      ]
     },
     "execution_count": 17,
     "metadata": {},
     "output_type": "execute_result"
    }
   ],
   "source": [
    "# When we used boston_data[\"sys\"], there was a key for sunrise and a key for sunset in the output. \n",
    "# The value for these keys is the time of day in seconds in a database timestamp format.\n",
    "\n",
    "# If we want to retrieve the date in the weather data, we would add the dt key to the boston_data \n",
    "# variable like this: boston_data[\"dt\"].\n",
    "\n",
    "boston_data[\"dt\"]"
   ]
  },
  {
   "cell_type": "code",
   "execution_count": 18,
   "metadata": {},
   "outputs": [
    {
     "data": {
      "text/plain": [
       "42.36"
      ]
     },
     "execution_count": 18,
     "metadata": {},
     "output_type": "execute_result"
    }
   ],
   "source": [
    "# Get the latitude value from the Boston JSON data\n",
    "boston_data[\"coord\"][\"lat\"]"
   ]
  },
  {
   "cell_type": "code",
   "execution_count": 19,
   "metadata": {},
   "outputs": [
    {
     "data": {
      "text/plain": [
       "42.01"
      ]
     },
     "execution_count": 19,
     "metadata": {},
     "output_type": "execute_result"
    }
   ],
   "source": [
    "# Get the maximum temperature value from the Boston JSON data\n",
    "boston_data[\"main\"][\"temp_max\"]"
   ]
  },
  {
   "cell_type": "code",
   "execution_count": 20,
   "metadata": {},
   "outputs": [
    {
     "name": "stdout",
     "output_type": "stream",
     "text": [
      "42.36 -71.06 42.01 93 90 19.46\n"
     ]
    }
   ],
   "source": [
    "# Using similar syntax to get the time of day\n",
    "# Get the latitude, longitude, maximum temperature, \n",
    "# Get the humidity, percent cloudiness, and wind speed.\n",
    "\n",
    "lat = boston_data[\"coord\"][\"lat\"]\n",
    "lng = boston_data[\"coord\"][\"lon\"]\n",
    "max_temp = boston_data[\"main\"][\"temp_max\"]\n",
    "humidity = boston_data[\"main\"][\"humidity\"]\n",
    "clouds = boston_data[\"clouds\"][\"all\"]\n",
    "wind = boston_data[\"wind\"][\"speed\"]\n",
    "print(lat, lng, max_temp, humidity, clouds, wind)"
   ]
  },
  {
   "cell_type": "code",
   "execution_count": 21,
   "metadata": {},
   "outputs": [
    {
     "data": {
      "text/plain": [
       "datetime.datetime(2020, 3, 29, 21, 43, 56)"
      ]
     },
     "execution_count": 21,
     "metadata": {},
     "output_type": "execute_result"
    }
   ],
   "source": [
    "# Let’s convert the date from the Boston weather data in the JSON format to the ISO format.\n",
    "\n",
    "# Import the datetime module from the datetime library.\n",
    "from datetime import datetime\n",
    "# Get the date from the JSON file.\n",
    "date = boston_data[\"dt\"]\n",
    "# Convert the UTC date to a date format with year, month, day, hours, minutes, and seconds.\n",
    "datetime.utcfromtimestamp(date)"
   ]
  },
  {
   "cell_type": "code",
   "execution_count": 22,
   "metadata": {},
   "outputs": [],
   "source": [
    "# We can convert this datetime format to 2019-08-08 15:47:30 using the Python string \n",
    "# format method strftime() and adding how we want the string to look inside the parentheses. \n",
    "# In our case, we would use strftime('%Y-%m-%d %H:%M:%S')."
   ]
  },
  {
   "cell_type": "code",
   "execution_count": 23,
   "metadata": {},
   "outputs": [
    {
     "data": {
      "text/plain": [
       "'2020-03-29 21:43:56'"
      ]
     },
     "execution_count": 23,
     "metadata": {},
     "output_type": "execute_result"
    }
   ],
   "source": [
    "datetime.utcfromtimestamp(date).strftime('%Y-%m-%d %H:%M:%S')"
   ]
  },
  {
   "cell_type": "code",
   "execution_count": 24,
   "metadata": {},
   "outputs": [],
   "source": [
    "# Get the City Weather Data \n",
    "# Let’s use pseudocode to map out, at a high level, how we will get the weather data for each city for the website.\n",
    "\n",
    "# We will need to do the following:\n",
    "# Import our dependencies and initialize counters and an empty list that will hold the weather data.\n",
    "# Loop through the cities list.\n",
    "# Group the cities in sets of 50 to log the process as we find the weather data for each city.\n",
    "# Two counters will be needed here: one to log the city count from 1 to 50, and another for the sets.\n",
    "# Build the city_url or endpoint for each city.\n",
    "# Log the URL and the record and set numbers.\n",
    "# Make an API request for each city.\n",
    "# Parse the JSON weather data for the following:\n",
    "# City, country, and date\n",
    "# Latitude and longitude\n",
    "# Maximum temperature\n",
    "# Humidity\n",
    "# Cloudiness\n",
    "# Wind speed\n",
    "# add the data to a list in a dictionary format and then convert the list to a DataFrame.\n",
    "\n"
   ]
  },
  {
   "cell_type": "code",
   "execution_count": 25,
   "metadata": {},
   "outputs": [],
   "source": [
    "# Import Dependencies, and Initialize an Empty List and Counters\n",
    "# At the top of our code block, we are going to declare an empty list, city_data = []; add a print statement that references the beginning of the logging; and create counters for the record numbers, 1–50; and the set counter.\n",
    "# Before adding new code to our WeatherPy file, make sure the following tasks are completed:\n",
    "# Import your Requests Library and the weather_api_key.\n",
    "# Build the basic URL for the OpenWeatherMap with your weather_api_key added to the URL.\n",
    "# Also, import the datetime module using the following code:\n",
    "\n",
    "# Import the datetime module from the datetime library.\n",
    "from datetime import datetime"
   ]
  },
  {
   "cell_type": "code",
   "execution_count": 26,
   "metadata": {},
   "outputs": [
    {
     "name": "stdout",
     "output_type": "stream",
     "text": [
      "Beginning Data Retrieval     \n",
      "-----------------------------\n",
      "Processing Record 1 of Set 1 | asau\n",
      "Processing Record 2 of Set 1 | tolaga bay\n",
      "Processing Record 3 of Set 1 | beringovskiy\n",
      "Processing Record 4 of Set 1 | ruatoria\n",
      "Processing Record 5 of Set 1 | leningradskiy\n",
      "Processing Record 6 of Set 1 | rungata\n",
      "Processing Record 7 of Set 1 | butaritari\n",
      "Processing Record 8 of Set 1 | dunedin\n",
      "Processing Record 9 of Set 1 | waipawa\n",
      "Processing Record 10 of Set 1 | kaitangata\n"
     ]
    }
   ],
   "source": [
    "# Create an empty list to hold the weather data.\n",
    "# In the code block, we have initialized the counters at 1 because we want the first iteration \n",
    "# of the logging for each recorded response and the set to start at 1.\n",
    "\n",
    "city_data = []\n",
    "# Print the beginning of the logging.\n",
    "print(\"Beginning Data Retrieval     \")\n",
    "print(\"-----------------------------\")\n",
    "\n",
    "# Create counters.\n",
    "record_count = 1\n",
    "set_count = 1\n",
    "#-------------------------------------------------------------------------------------------\n",
    "# Loop Through the List of Cities and Build the City URL\n",
    "\n",
    "# Next, we need to iterate through our list of cities and begin building the URL for each city, \n",
    "# while grouping our records in sets of 50\n",
    "\n",
    "# Loop through all the cities in the list.\n",
    "# we can use the enumerate() method as an alternative way to iterate through the list of cities\n",
    "# and retrieve both the index, and the city from the list\n",
    "\n",
    "for i, city in enumerate(cities):\n",
    "\n",
    "# Group cities in sets of 50 for logging purposes.\n",
    "# In the conditional statement, we check if the remainder of the index divided by 50 is equal \n",
    "# to 0 and if the index is greater than or equal to 50. If the statement is true, \n",
    "# then the set_count and the record_count are equal to 1\n",
    "   \n",
    "    if (i % 50 == 0 and i >= 50):\n",
    "        set_count += 1\n",
    "        record_count = 1\n",
    "        \n",
    "    # Create endpoint URL with each city.\n",
    "    city_url = url + \"&q=\" + city\n",
    "\n",
    "# Log the URL, record, and set numbers and the city.\n",
    "# add a print statement that tells us the record count and set count, and the city \n",
    "# that is being processe\n",
    "    \n",
    "    print(f\"Processing Record {record_count} of Set {set_count} | {city}\")\n",
    "    # Add 1 to the record count.\n",
    "    record_count += 1"
   ]
  },
  {
   "cell_type": "code",
   "execution_count": 27,
   "metadata": {},
   "outputs": [],
   "source": [
    "# We have handled request errors for getting the response from a valid city with an API \n",
    "# call using conditional statements. Now we’ll learn how to handle errors while parsing \n",
    "# weather data from a JSON file.\n",
    "\n",
    "# We’ll add a \"try-except\" block to our code to prevent the API request from stopping prematurely \n",
    "# if the city_weather request isn't a valid response. If the request isn’t valid, the code will \n",
    "# not find the first item requested, which is the dictionary \"coord\" with the code \n",
    "# city_lat = city_weather[\"coord\"][\"lat\"], and skip the city and continue to run.\n"
   ]
  },
  {
   "cell_type": "code",
   "execution_count": 28,
   "metadata": {},
   "outputs": [
    {
     "name": "stdout",
     "output_type": "stream",
     "text": [
      "-----------------------------\n",
      "Data Retrieval Complete      \n",
      "-----------------------------\n"
     ]
    }
   ],
   "source": [
    "# Let’s add a \"try\" block. Then, below the try block, do the following:\n",
    "# Parse the JSON file for the current city\n",
    "# Assign variables for each piece of data we need.\n",
    "# Add the data to the cities list in a dictionary format.\n",
    "# Add the following code after record_count += 1.\n",
    "\n",
    "# Run an API request for each of the cities.\n",
    "try:\n",
    "        # Parse the JSON and retrieve data.\n",
    "        city_weather = requests.get(city_url).json()\n",
    "        # Parse out the needed data.\n",
    "        city_lat = city_weather[\"coord\"][\"lat\"]\n",
    "        city_lng = city_weather[\"coord\"][\"lon\"]\n",
    "        city_max_temp = city_weather[\"main\"][\"temp_max\"]\n",
    "        city_humidity = city_weather[\"main\"][\"humidity\"]\n",
    "        city_clouds = city_weather[\"clouds\"][\"all\"]\n",
    "        city_wind = city_weather[\"wind\"][\"speed\"]\n",
    "        city_country = city_weather[\"sys\"][\"country\"]\n",
    "        # Convert the date to ISO standard.\n",
    "        city_date = datetime.utcfromtimestamp(city_weather[\"dt\"]).strftime('%Y-%m-%d %H:%M:%S')\n",
    "        # Append the city information into city_data list.\n",
    "        city_data.append({\"City\": city.title(),\n",
    "                          \"Lat\": city_lat,\n",
    "                          \"Lng\": city_lng,\n",
    "                          \"Max Temp\": city_max_temp,\n",
    "                          \"Humidity\": city_humidity,\n",
    "                          \"Cloudiness\": city_clouds,\n",
    "                          \"Wind Speed\": city_wind,\n",
    "                          \"Country\": city_country,\n",
    "                          \"Date\": city_date})\n",
    "\n",
    "# If an error is experienced, skip the city.\n",
    "except:\n",
    "    print(\"City not found. Skipping...\")\n",
    "    pass\n",
    "\n",
    "# Indicate that Data Loading is complete.\n",
    "print(\"-----------------------------\")\n",
    "print(\"Data Retrieval Complete      \")\n",
    "print(\"-----------------------------\")"
   ]
  },
  {
   "cell_type": "code",
   "execution_count": 43,
   "metadata": {},
   "outputs": [
    {
     "data": {
      "text/html": [
       "<div>\n",
       "<style scoped>\n",
       "    .dataframe tbody tr th:only-of-type {\n",
       "        vertical-align: middle;\n",
       "    }\n",
       "\n",
       "    .dataframe tbody tr th {\n",
       "        vertical-align: top;\n",
       "    }\n",
       "\n",
       "    .dataframe thead th {\n",
       "        text-align: right;\n",
       "    }\n",
       "</style>\n",
       "<table border=\"1\" class=\"dataframe\">\n",
       "  <thead>\n",
       "    <tr style=\"text-align: right;\">\n",
       "      <th></th>\n",
       "      <th>City</th>\n",
       "      <th>Lat</th>\n",
       "      <th>Lng</th>\n",
       "      <th>Max Temp</th>\n",
       "      <th>Humidity</th>\n",
       "      <th>Cloudiness</th>\n",
       "      <th>Wind Speed</th>\n",
       "      <th>Country</th>\n",
       "      <th>Date</th>\n",
       "    </tr>\n",
       "  </thead>\n",
       "  <tbody>\n",
       "    <tr>\n",
       "      <th>0</th>\n",
       "      <td>Kaitangata</td>\n",
       "      <td>-46.28</td>\n",
       "      <td>169.85</td>\n",
       "      <td>55</td>\n",
       "      <td>89</td>\n",
       "      <td>46</td>\n",
       "      <td>8.99</td>\n",
       "      <td>NZ</td>\n",
       "      <td>2020-03-29 21:54:37</td>\n",
       "    </tr>\n",
       "  </tbody>\n",
       "</table>\n",
       "</div>"
      ],
      "text/plain": [
       "         City    Lat     Lng  Max Temp  Humidity  Cloudiness  Wind Speed  \\\n",
       "0  Kaitangata -46.28  169.85        55        89          46        8.99   \n",
       "\n",
       "  Country                 Date  \n",
       "0      NZ  2020-03-29 21:54:37  "
      ]
     },
     "execution_count": 43,
     "metadata": {},
     "output_type": "execute_result"
    }
   ],
   "source": [
    "# Create a DataFrame of City Weather Data\n",
    "# Convert the array of dictionaries to a Pandas DataFrame.\n",
    "city_data_df = pd.DataFrame(city_data)\n",
    "city_data_df"
   ]
  },
  {
   "cell_type": "code",
   "execution_count": 46,
   "metadata": {},
   "outputs": [
    {
     "data": {
      "text/html": [
       "<div>\n",
       "<style scoped>\n",
       "    .dataframe tbody tr th:only-of-type {\n",
       "        vertical-align: middle;\n",
       "    }\n",
       "\n",
       "    .dataframe tbody tr th {\n",
       "        vertical-align: top;\n",
       "    }\n",
       "\n",
       "    .dataframe thead th {\n",
       "        text-align: right;\n",
       "    }\n",
       "</style>\n",
       "<table border=\"1\" class=\"dataframe\">\n",
       "  <thead>\n",
       "    <tr style=\"text-align: right;\">\n",
       "      <th></th>\n",
       "      <th>City</th>\n",
       "      <th>Country</th>\n",
       "      <th>Date</th>\n",
       "      <th>Lat</th>\n",
       "      <th>Lng</th>\n",
       "      <th>Max Temp</th>\n",
       "      <th>Humidity</th>\n",
       "      <th>Cloudiness</th>\n",
       "      <th>Wind Speed</th>\n",
       "    </tr>\n",
       "  </thead>\n",
       "  <tbody>\n",
       "    <tr>\n",
       "      <th>0</th>\n",
       "      <td>Kaitangata</td>\n",
       "      <td>NZ</td>\n",
       "      <td>2020-03-29 21:54:37</td>\n",
       "      <td>-46.28</td>\n",
       "      <td>169.85</td>\n",
       "      <td>55</td>\n",
       "      <td>89</td>\n",
       "      <td>46</td>\n",
       "      <td>8.99</td>\n",
       "    </tr>\n",
       "  </tbody>\n",
       "</table>\n",
       "</div>"
      ],
      "text/plain": [
       "         City Country                 Date    Lat     Lng  Max Temp  Humidity  \\\n",
       "0  Kaitangata      NZ  2020-03-29 21:54:37 -46.28  169.85        55        89   \n",
       "\n",
       "   Cloudiness  Wind Speed  \n",
       "0          46        8.99  "
      ]
     },
     "execution_count": 46,
     "metadata": {},
     "output_type": "execute_result"
    }
   ],
   "source": [
    "# Next, we’ll reorder the columns as City, Country, Date, Lat, Lng, Max Temp, Humidity, \n",
    "# Cloudiness, and Wind Speed, so they are easy to read.\n",
    "city_data_df = city_data_df[[\"City\",\"Country\",\"Date\",\"Lat\",\"Lng\",\"Max Temp\",\"Humidity\", \"Cloudiness\",\"Wind Speed\"]]\n",
    "city_data_df\n"
   ]
  },
  {
   "cell_type": "code",
   "execution_count": 47,
   "metadata": {},
   "outputs": [],
   "source": [
    "# we’ll create an output file to save the DataFrame as a CSV in a new folder for that file.\n",
    "# Create the output file (CSV).\n",
    "output_data_file = \"weather_data/cities.csv\"\n",
    "# Export the City_Data into a CSV.\n",
    "city_data_df.to_csv(output_data_file, index_label=\"City_ID\")"
   ]
  },
  {
   "cell_type": "code",
   "execution_count": null,
   "metadata": {},
   "outputs": [],
   "source": []
  }
 ],
 "metadata": {
  "kernelspec": {
   "display_name": "Python 3",
   "language": "python",
   "name": "python3"
  },
  "language_info": {
   "codemirror_mode": {
    "name": "ipython",
    "version": 3
   },
   "file_extension": ".py",
   "mimetype": "text/x-python",
   "name": "python",
   "nbconvert_exporter": "python",
   "pygments_lexer": "ipython3",
   "version": "3.7.4"
  }
 },
 "nbformat": 4,
 "nbformat_minor": 4
}
